{
 "cells": [
  {
   "cell_type": "code",
   "execution_count": null,
   "metadata": {},
   "outputs": [],
   "source": [
    "'''\n",
    "輸入：\n",
    "證券代號\n",
    "期間(起訖日)\n",
    "\n",
    "產出：\n",
    "期間內K線圖\n",
    "\n",
    "\n",
    "採用資料：\n",
    "蠟燭線-最高價、最低價\n",
    "蠟燭身-開盤價、收盤價\n",
    "如開盤價<收盤價(上漲)   ==> 陽線(紅色)\n",
    "如開盤價>收盤價(下跌)   ==> 陰線(綠色)\n",
    "\n",
    "'''"
   ]
  },
  {
   "cell_type": "code",
   "execution_count": 1,
   "metadata": {},
   "outputs": [],
   "source": [
    "import requests\n",
    "import io\n",
    "import pandas as pd\n",
    "import time\n",
    "import mplfinance as mpf"
   ]
  },
  {
   "cell_type": "code",
   "execution_count": 3,
   "metadata": {
    "scrolled": false
   },
   "outputs": [
    {
     "name": "stderr",
     "output_type": "stream",
     "text": [
      "C:\\ProgramData\\Anaconda3\\lib\\site-packages\\ipykernel_launcher.py:1: DeprecationWarning: time.clock has been deprecated in Python 3.3 and will be removed from Python 3.8: use time.perf_counter or time.process_time instead\n",
      "  \"\"\"Entry point for launching an IPython kernel.\n"
     ]
    },
    {
     "name": "stdout",
     "output_type": "stream",
     "text": [
      "['\"106年11月 1236 宏亞             各日成交資訊\"', '\"日期\",\"成交股數\",\"成交金額\",\"開盤價\",\"最高價\",\"最低價\",\"收盤價\",\"漲跌價差\",\"成交筆數\",', '\"106/11/01\",\"51,485\",\"878,840\",\"16.85\",\"17.15\",\"16.85\",\"17.00\",\"+0.15\",\"30\",', '\"106/11/02\",\"30,178\",\"510,826\",\"16.90\",\"17.00\",\"16.90\",\"17.00\",\" 0.00\",\"23\",', '\"106/11/03\",\"10,300\",\"174,650\",\"17.00\",\"17.00\",\"16.90\",\"16.90\",\"-0.10\",\"9\",', '\"106/11/06\",\"11,001\",\"186,717\",\"16.95\",\"17.05\",\"16.90\",\"17.05\",\"+0.15\",\"8\",', '\"106/11/07\",\"8,125\",\"137,531\",\"17.00\",\"17.00\",\"16.90\",\"16.90\",\"-0.15\",\"9\",', '\"106/11/08\",\"16,000\",\"270,200\",\"16.90\",\"16.90\",\"16.85\",\"16.90\",\" 0.00\",\"10\",', '\"106/11/09\",\"39,266\",\"668,688\",\"16.90\",\"17.20\",\"16.90\",\"16.90\",\" 0.00\",\"27\",', '\"106/11/10\",\"34,457\",\"580,029\",\"16.80\",\"16.90\",\"16.80\",\"16.85\",\"-0.05\",\"27\",', '\"106/11/13\",\"7,191\",\"120,924\",\"16.85\",\"16.85\",\"16.80\",\"16.80\",\"-0.05\",\"12\",', '\"106/11/14\",\"14,302\",\"240,852\",\"16.85\",\"16.90\",\"16.80\",\"16.85\",\"+0.05\",\"13\",', '\"106/11/15\",\"63,182\",\"1,066,988\",\"16.85\",\"17.25\",\"16.80\",\"17.25\",\"+0.40\",\"33\",', '\"106/11/16\",\"17,941\",\"303,250\",\"17.00\",\"17.00\",\"16.85\",\"16.85\",\"-0.40\",\"32\",', '\"106/11/17\",\"8,292\",\"139,869\",\"16.85\",\"16.95\",\"16.85\",\"16.85\",\" 0.00\",\"20\",', '\"106/11/20\",\"21,908\",\"368,138\",\"16.85\",\"16.85\",\"16.75\",\"16.80\",\"-0.05\",\"18\",', '\"106/11/21\",\"14,002\",\"235,932\",\"16.80\",\"16.90\",\"16.80\",\"16.80\",\" 0.00\",\"9\",', '\"106/11/22\",\"12,204\",\"204,904\",\"16.80\",\"16.80\",\"16.75\",\"16.80\",\" 0.00\",\"14\",', '\"106/11/23\",\"31,266\",\"524,253\",\"16.80\",\"16.80\",\"16.70\",\"16.75\",\"-0.05\",\"23\",', '\"106/11/24\",\"16,094\",\"269,378\",\"16.75\",\"16.80\",\"16.70\",\"16.80\",\"+0.05\",\"12\",', '\"106/11/27\",\"45,749\",\"770,853\",\"16.80\",\"16.90\",\"16.80\",\"16.90\",\"+0.10\",\"25\",', '\"106/11/28\",\"23,001\",\"387,417\",\"16.90\",\"16.90\",\"16.80\",\"16.85\",\"-0.05\",\"14\",', '\"106/11/29\",\"86,251\",\"1,447,339\",\"16.80\",\"16.80\",\"16.70\",\"16.75\",\"-0.10\",\"25\",', '\"106/11/30\",\"16,132\",\"271,953\",\"16.75\",\"16.90\",\"16.75\",\"16.90\",\"+0.15\",\"13\",', '\"說明:\"', '\"符號說明:+/-/X表示漲/跌/不比價\"', '\"當日統計資訊含一般、零股、盤後定價、鉅額交易，不含拍賣、標購。\"', '\"ETF證券代號第六碼為K、M、S、C者，表示該ETF以外幣交易。\"', '']\n",
      "['\"106年11月 1236 宏亞             各日成交資\"\\n', '\"日期\",\"成交股數\",\"成交金額\",\"開盤價\",\"最高價\",\"最低價\",\"收盤價\",\"漲跌價差\",\"成交筆數\"\\n', '\"106/11/01\",\"51,485\",\"878,840\",\"16.85\",\"17.15\",\"16.85\",\"17.00\",\"+0.15\",\"30\"\\n', '\"106/11/02\",\"30,178\",\"510,826\",\"16.90\",\"17.00\",\"16.90\",\"17.00\",\" 0.00\",\"23\"\\n', '\"106/11/03\",\"10,300\",\"174,650\",\"17.00\",\"17.00\",\"16.90\",\"16.90\",\"-0.10\",\"9\"\\n', '\"106/11/06\",\"11,001\",\"186,717\",\"16.95\",\"17.05\",\"16.90\",\"17.05\",\"+0.15\",\"8\"\\n', '\"106/11/07\",\"8,125\",\"137,531\",\"17.00\",\"17.00\",\"16.90\",\"16.90\",\"-0.15\",\"9\"\\n', '\"106/11/08\",\"16,000\",\"270,200\",\"16.90\",\"16.90\",\"16.85\",\"16.90\",\" 0.00\",\"10\"\\n', '\"106/11/09\",\"39,266\",\"668,688\",\"16.90\",\"17.20\",\"16.90\",\"16.90\",\" 0.00\",\"27\"\\n', '\"106/11/10\",\"34,457\",\"580,029\",\"16.80\",\"16.90\",\"16.80\",\"16.85\",\"-0.05\",\"27\"\\n', '\"106/11/13\",\"7,191\",\"120,924\",\"16.85\",\"16.85\",\"16.80\",\"16.80\",\"-0.05\",\"12\"\\n', '\"106/11/14\",\"14,302\",\"240,852\",\"16.85\",\"16.90\",\"16.80\",\"16.85\",\"+0.05\",\"13\"\\n', '\"106/11/15\",\"63,182\",\"1,066,988\",\"16.85\",\"17.25\",\"16.80\",\"17.25\",\"+0.40\",\"33\"\\n', '\"106/11/16\",\"17,941\",\"303,250\",\"17.00\",\"17.00\",\"16.85\",\"16.85\",\"-0.40\",\"32\"\\n', '\"106/11/17\",\"8,292\",\"139,869\",\"16.85\",\"16.95\",\"16.85\",\"16.85\",\" 0.00\",\"20\"\\n', '\"106/11/20\",\"21,908\",\"368,138\",\"16.85\",\"16.85\",\"16.75\",\"16.80\",\"-0.05\",\"18\"\\n', '\"106/11/21\",\"14,002\",\"235,932\",\"16.80\",\"16.90\",\"16.80\",\"16.80\",\" 0.00\",\"9\"\\n', '\"106/11/22\",\"12,204\",\"204,904\",\"16.80\",\"16.80\",\"16.75\",\"16.80\",\" 0.00\",\"14\"\\n', '\"106/11/23\",\"31,266\",\"524,253\",\"16.80\",\"16.80\",\"16.70\",\"16.75\",\"-0.05\",\"23\"\\n', '\"106/11/24\",\"16,094\",\"269,378\",\"16.75\",\"16.80\",\"16.70\",\"16.80\",\"+0.05\",\"12\"\\n', '\"106/11/27\",\"45,749\",\"770,853\",\"16.80\",\"16.90\",\"16.80\",\"16.90\",\"+0.10\",\"25\"\\n', '\"106/11/28\",\"23,001\",\"387,417\",\"16.90\",\"16.90\",\"16.80\",\"16.85\",\"-0.05\",\"14\"\\n', '\"106/11/29\",\"86,251\",\"1,447,339\",\"16.80\",\"16.80\",\"16.70\",\"16.75\",\"-0.10\",\"25\"\\n', '\"106/11/30\",\"16,132\",\"271,953\",\"16.75\",\"16.90\",\"16.75\",\"16.90\",\"+0.15\",\"13\"\\n', '\"說明\"\\n', '\"符號說明:+/-/X表示漲/跌/不比\"\\n', '\"當日統計資訊含一般、零股、盤後定價、鉅額交易，不含拍賣、標購\"\\n', '\"ETF證券代號第六碼為K、M、S、C者，表示該ETF以外幣交易\"\\n', '\"\\n']\n"
     ]
    },
    {
     "name": "stderr",
     "output_type": "stream",
     "text": [
      "C:\\ProgramData\\Anaconda3\\lib\\site-packages\\ipykernel_launcher.py:49: SettingWithCopyWarning: \n",
      "A value is trying to be set on a copy of a slice from a DataFrame\n",
      "\n",
      "See the caveats in the documentation: http://pandas.pydata.org/pandas-docs/stable/indexing.html#indexing-view-versus-copy\n",
      "C:\\ProgramData\\Anaconda3\\lib\\site-packages\\ipykernel_launcher.py:51: SettingWithCopyWarning: \n",
      "A value is trying to be set on a copy of a slice from a DataFrame\n",
      "\n",
      "See the caveats in the documentation: http://pandas.pydata.org/pandas-docs/stable/indexing.html#indexing-view-versus-copy\n"
     ]
    },
    {
     "name": "stdout",
     "output_type": "stream",
     "text": [
      "           Volume       成交金額   Open   High    Low  Close  漲跌價差  成交筆數\n",
      "Date                                                                \n",
      "2017-11-01  51485    878,840  16.85  17.15  16.85  17.00  0.15    30\n",
      "2017-11-02  30178    510,826  16.90  17.00  16.90  17.00  0.00    23\n",
      "2017-11-03  10300    174,650  17.00  17.00  16.90  16.90 -0.10     9\n",
      "2017-11-06  11001    186,717  16.95  17.05  16.90  17.05  0.15     8\n",
      "2017-11-07   8125    137,531  17.00  17.00  16.90  16.90 -0.15     9\n",
      "2017-11-08  16000    270,200  16.90  16.90  16.85  16.90  0.00    10\n",
      "2017-11-09  39266    668,688  16.90  17.20  16.90  16.90  0.00    27\n",
      "2017-11-10  34457    580,029  16.80  16.90  16.80  16.85 -0.05    27\n",
      "2017-11-13   7191    120,924  16.85  16.85  16.80  16.80 -0.05    12\n",
      "2017-11-14  14302    240,852  16.85  16.90  16.80  16.85  0.05    13\n",
      "2017-11-15  63182  1,066,988  16.85  17.25  16.80  17.25  0.40    33\n",
      "2017-11-16  17941    303,250  17.00  17.00  16.85  16.85 -0.40    32\n",
      "2017-11-17   8292    139,869  16.85  16.95  16.85  16.85  0.00    20\n",
      "2017-11-20  21908    368,138  16.85  16.85  16.75  16.80 -0.05    18\n",
      "2017-11-21  14002    235,932  16.80  16.90  16.80  16.80  0.00     9\n",
      "2017-11-22  12204    204,904  16.80  16.80  16.75  16.80  0.00    14\n",
      "2017-11-23  31266    524,253  16.80  16.80  16.70  16.75 -0.05    23\n",
      "2017-11-24  16094    269,378  16.75  16.80  16.70  16.80  0.05    12\n",
      "2017-11-27  45749    770,853  16.80  16.90  16.80  16.90  0.10    25\n",
      "2017-11-28  23001    387,417  16.90  16.90  16.80  16.85 -0.05    14\n",
      "2017-11-29  86251  1,447,339  16.80  16.80  16.70  16.75 -0.10    25\n",
      "['\"106年12月 1236 宏亞             各日成交資訊\"', '\"日期\",\"成交股數\",\"成交金額\",\"開盤價\",\"最高價\",\"最低價\",\"收盤價\",\"漲跌價差\",\"成交筆數\",', '\"106/12/01\",\"25,121\",\"424,305\",\"16.90\",\"16.90\",\"16.80\",\"16.80\",\"-0.10\",\"12\",', '\"106/12/04\",\"21,105\",\"356,359\",\"16.90\",\"16.90\",\"16.80\",\"16.80\",\" 0.00\",\"16\",', '\"106/12/05\",\"5,093\",\"85,542\",\"16.80\",\"16.80\",\"16.80\",\"16.80\",\" 0.00\",\"8\",', '\"106/12/06\",\"35,239\",\"594,587\",\"16.90\",\"16.90\",\"16.80\",\"16.85\",\"+0.05\",\"22\",', '\"106/12/07\",\"22,002\",\"370,632\",\"16.85\",\"16.90\",\"16.80\",\"16.85\",\" 0.00\",\"19\",', '\"106/12/08\",\"46,202\",\"779,971\",\"16.85\",\"16.90\",\"16.85\",\"16.85\",\" 0.00\",\"19\",', '\"106/12/11\",\"23,219\",\"392,388\",\"16.85\",\"17.00\",\"16.80\",\"16.90\",\"+0.05\",\"18\",', '\"106/12/12\",\"19,008\",\"322,336\",\"16.90\",\"17.00\",\"16.90\",\"17.00\",\"+0.10\",\"17\",', '\"106/12/13\",\"8,011\",\"135,326\",\"16.95\",\"16.95\",\"16.80\",\"16.95\",\"-0.05\",\"19\",', '\"106/12/14\",\"4,250\",\"71,649\",\"16.80\",\"16.90\",\"16.80\",\"16.90\",\"-0.05\",\"9\",', '\"106/12/15\",\"28,001\",\"474,116\",\"16.85\",\"17.00\",\"16.80\",\"16.95\",\"+0.05\",\"22\",', '\"106/12/18\",\"61,307\",\"1,039,667\",\"17.00\",\"17.00\",\"16.85\",\"16.85\",\"-0.10\",\"28\",', '\"106/12/19\",\"13,214\",\"224,240\",\"16.85\",\"17.00\",\"16.85\",\"16.95\",\"+0.10\",\"16\",', '\"106/12/20\",\"266,002\",\"4,531,934\",\"16.85\",\"17.10\",\"16.85\",\"17.10\",\"+0.15\",\"25\",', '\"106/12/21\",\"58,004\",\"989,318\",\"17.15\",\"17.20\",\"17.00\",\"17.05\",\"-0.05\",\"40\",', '\"106/12/22\",\"98,023\",\"1,678,641\",\"16.90\",\"17.15\",\"16.90\",\"17.05\",\" 0.00\",\"22\",', '\"106/12/25\",\"5,747\",\"97,364\",\"16.95\",\"16.95\",\"16.95\",\"16.95\",\"-0.10\",\"18\",', '\"106/12/26\",\"34,432\",\"584,598\",\"16.95\",\"17.05\",\"16.90\",\"17.00\",\"+0.05\",\"28\",', '\"106/12/27\",\"21,021\",\"354,549\",\"17.00\",\"17.00\",\"16.80\",\"16.95\",\"-0.05\",\"20\",', '\"106/12/28\",\"25,004\",\"425,114\",\"17.00\",\"17.05\",\"17.00\",\"17.05\",\"+0.10\",\"15\",', '\"106/12/29\",\"116,266\",\"2,004,163\",\"17.15\",\"17.40\",\"17.10\",\"17.40\",\"+0.35\",\"64\",', '\"說明:\"', '\"符號說明:+/-/X表示漲/跌/不比價\"', '\"當日統計資訊含一般、零股、盤後定價、鉅額交易，不含拍賣、標購。\"', '\"ETF證券代號第六碼為K、M、S、C者，表示該ETF以外幣交易。\"', '']\n",
      "['\"106年12月 1236 宏亞             各日成交資\"\\n', '\"日期\",\"成交股數\",\"成交金額\",\"開盤價\",\"最高價\",\"最低價\",\"收盤價\",\"漲跌價差\",\"成交筆數\"\\n', '\"106/12/01\",\"25,121\",\"424,305\",\"16.90\",\"16.90\",\"16.80\",\"16.80\",\"-0.10\",\"12\"\\n', '\"106/12/04\",\"21,105\",\"356,359\",\"16.90\",\"16.90\",\"16.80\",\"16.80\",\" 0.00\",\"16\"\\n', '\"106/12/05\",\"5,093\",\"85,542\",\"16.80\",\"16.80\",\"16.80\",\"16.80\",\" 0.00\",\"8\"\\n', '\"106/12/06\",\"35,239\",\"594,587\",\"16.90\",\"16.90\",\"16.80\",\"16.85\",\"+0.05\",\"22\"\\n', '\"106/12/07\",\"22,002\",\"370,632\",\"16.85\",\"16.90\",\"16.80\",\"16.85\",\" 0.00\",\"19\"\\n', '\"106/12/08\",\"46,202\",\"779,971\",\"16.85\",\"16.90\",\"16.85\",\"16.85\",\" 0.00\",\"19\"\\n', '\"106/12/11\",\"23,219\",\"392,388\",\"16.85\",\"17.00\",\"16.80\",\"16.90\",\"+0.05\",\"18\"\\n', '\"106/12/12\",\"19,008\",\"322,336\",\"16.90\",\"17.00\",\"16.90\",\"17.00\",\"+0.10\",\"17\"\\n', '\"106/12/13\",\"8,011\",\"135,326\",\"16.95\",\"16.95\",\"16.80\",\"16.95\",\"-0.05\",\"19\"\\n', '\"106/12/14\",\"4,250\",\"71,649\",\"16.80\",\"16.90\",\"16.80\",\"16.90\",\"-0.05\",\"9\"\\n', '\"106/12/15\",\"28,001\",\"474,116\",\"16.85\",\"17.00\",\"16.80\",\"16.95\",\"+0.05\",\"22\"\\n', '\"106/12/18\",\"61,307\",\"1,039,667\",\"17.00\",\"17.00\",\"16.85\",\"16.85\",\"-0.10\",\"28\"\\n', '\"106/12/19\",\"13,214\",\"224,240\",\"16.85\",\"17.00\",\"16.85\",\"16.95\",\"+0.10\",\"16\"\\n', '\"106/12/20\",\"266,002\",\"4,531,934\",\"16.85\",\"17.10\",\"16.85\",\"17.10\",\"+0.15\",\"25\"\\n', '\"106/12/21\",\"58,004\",\"989,318\",\"17.15\",\"17.20\",\"17.00\",\"17.05\",\"-0.05\",\"40\"\\n', '\"106/12/22\",\"98,023\",\"1,678,641\",\"16.90\",\"17.15\",\"16.90\",\"17.05\",\" 0.00\",\"22\"\\n', '\"106/12/25\",\"5,747\",\"97,364\",\"16.95\",\"16.95\",\"16.95\",\"16.95\",\"-0.10\",\"18\"\\n', '\"106/12/26\",\"34,432\",\"584,598\",\"16.95\",\"17.05\",\"16.90\",\"17.00\",\"+0.05\",\"28\"\\n', '\"106/12/27\",\"21,021\",\"354,549\",\"17.00\",\"17.00\",\"16.80\",\"16.95\",\"-0.05\",\"20\"\\n', '\"106/12/28\",\"25,004\",\"425,114\",\"17.00\",\"17.05\",\"17.00\",\"17.05\",\"+0.10\",\"15\"\\n', '\"106/12/29\",\"116,266\",\"2,004,163\",\"17.15\",\"17.40\",\"17.10\",\"17.40\",\"+0.35\",\"64\"\\n', '\"說明\"\\n', '\"符號說明:+/-/X表示漲/跌/不比\"\\n', '\"當日統計資訊含一般、零股、盤後定價、鉅額交易，不含拍賣、標購\"\\n', '\"ETF證券代號第六碼為K、M、S、C者，表示該ETF以外幣交易\"\\n', '\"\\n']\n",
      "            Volume       成交金額   Open   High    Low  Close  漲跌價差  成交筆數\n",
      "Date                                                                 \n",
      "2017-12-01   25121    424,305  16.90  16.90  16.80  16.80 -0.10    12\n",
      "2017-12-04   21105    356,359  16.90  16.90  16.80  16.80  0.00    16\n",
      "2017-12-05    5093     85,542  16.80  16.80  16.80  16.80  0.00     8\n",
      "2017-12-06   35239    594,587  16.90  16.90  16.80  16.85  0.05    22\n",
      "2017-12-07   22002    370,632  16.85  16.90  16.80  16.85  0.00    19\n",
      "2017-12-08   46202    779,971  16.85  16.90  16.85  16.85  0.00    19\n",
      "2017-12-11   23219    392,388  16.85  17.00  16.80  16.90  0.05    18\n",
      "2017-12-12   19008    322,336  16.90  17.00  16.90  17.00  0.10    17\n",
      "2017-12-13    8011    135,326  16.95  16.95  16.80  16.95 -0.05    19\n",
      "2017-12-14    4250     71,649  16.80  16.90  16.80  16.90 -0.05     9\n",
      "2017-12-15   28001    474,116  16.85  17.00  16.80  16.95  0.05    22\n",
      "2017-12-18   61307  1,039,667  17.00  17.00  16.85  16.85 -0.10    28\n",
      "2017-12-19   13214    224,240  16.85  17.00  16.85  16.95  0.10    16\n",
      "2017-12-20  266002  4,531,934  16.85  17.10  16.85  17.10  0.15    25\n",
      "2017-12-21   58004    989,318  17.15  17.20  17.00  17.05 -0.05    40\n",
      "2017-12-22   98023  1,678,641  16.90  17.15  16.90  17.05  0.00    22\n",
      "2017-12-25    5747     97,364  16.95  16.95  16.95  16.95 -0.10    18\n",
      "2017-12-26   34432    584,598  16.95  17.05  16.90  17.00  0.05    28\n",
      "2017-12-27   21021    354,549  17.00  17.00  16.80  16.95 -0.05    20\n",
      "2017-12-28   25004    425,114  17.00  17.05  17.00  17.05  0.10    15\n",
      "17.10780909999994\n"
     ]
    },
    {
     "name": "stderr",
     "output_type": "stream",
     "text": [
      "C:\\ProgramData\\Anaconda3\\lib\\site-packages\\ipykernel_launcher.py:60: DeprecationWarning: time.clock has been deprecated in Python 3.3 and will be removed from Python 3.8: use time.perf_counter or time.process_time instead\n"
     ]
    }
   ],
   "source": [
    "t0 = time.clock()\n",
    "def crawler( num, yy, mm):\n",
    "    MM = lambda mm: '0' + str(mm) if mm < 10 else str(mm)\n",
    "    page = requests.get('https://www.twse.com.tw/exchangeReport/STOCK_DAY?response=csv&date='+ str(yy) + MM(mm) +'01&stockNo='+str(num)).text.splitlines()\n",
    "    print(page)\n",
    "    for i, text in enumerate(page):\n",
    "         page[i] = page[i][:-2] + '\"\\n'\n",
    "    print(page)\n",
    "\n",
    "    for i,text in enumerate(page):\n",
    "         if '/' == page[i][4:5]:\n",
    "            end_point = i\n",
    "\n",
    "    for i, text in enumerate(page):\n",
    "         if '/' == page[i][4:5]:\n",
    "            start_point = i\n",
    "            break \n",
    "            \n",
    "    for i, text in enumerate(page):        \n",
    "        if page[i][4:5] == '/':\n",
    "            page[i] =  page[i][:1] + str(int(page[i][1:4])+1911) + page[i][4:] #民國年轉西元年\n",
    "            \n",
    "    for i in range(len(page[1])): #只有標題的那一列\n",
    "        if page[1][i:i+2] == '日期':\n",
    "            page[1] = page[1][:i] + 'Date' + page[1][i+2:]\n",
    "            \n",
    "        if page[1][i:i+3] == '開盤價':\n",
    "            page[1] = page[1][:i] + 'Open' + page[1][i+3:]\n",
    "            \n",
    "        if page[1][i:i+3] == '最高價':\n",
    "            page[1] = page[1][:i] + 'High' + page[1][i+3:]\n",
    "            \n",
    "        if page[1][i:i+3] == '最低價':\n",
    "            page[1] = page[1][:i] + 'Low' + page[1][i+3:]\n",
    "            \n",
    "        if page[1][i:i+3] == '收盤價':\n",
    "            page[1] = page[1][:i] + 'Close' + page[1][i+3:]\n",
    "            \n",
    "        if page[1][i:i+4] == '成交股數':\n",
    "            page[1] = page[1][:i] + 'Volume' + page[1][i+4:]\n",
    "\n",
    "    table = ''.join(list(page[start_point-1:end_point]))\n",
    "    table_df = pd.read_csv(io.StringIO(table), parse_dates=['Date'],index_col=0).dropna()\n",
    "    #parse_date將table_df['日期']轉換成datetime形式，index_col=0是把第一欄當作索引值\n",
    "    \n",
    "    for i in range(len(table_df['Volume'])): #把逗點去掉\n",
    "        for j in range(len(table_df['Volume'][i])):\n",
    "            if table_df['Volume'][i][j:j+1] == ',':\n",
    "                table_df['Volume'][i] = table_df['Volume'][i][:j]  + table_df['Volume'][i][j+1:]\n",
    "\n",
    "        table_df['Volume'][i]=int(table_df['Volume'][i])\n",
    "\n",
    "    return table_df\n",
    "            \n",
    "df = crawler(1236,2017,11)\n",
    "print(df)\n",
    "time.sleep(7)\n",
    "df2 = crawler(1236,2017,12)\n",
    "print(df2)\n",
    "print(time.clock()-t0)\n",
    "#df['']\n",
    "#print(df.loc[1])\n",
    "#print(df['Date'][1])"
   ]
  },
  {
   "cell_type": "code",
   "execution_count": 48,
   "metadata": {},
   "outputs": [
    {
     "name": "stdout",
     "output_type": "stream",
     "text": [
      "<class 'str'>\n"
     ]
    }
   ],
   "source": [
    "print(type(df['Volume'][0]))"
   ]
  },
  {
   "cell_type": "code",
   "execution_count": 4,
   "metadata": {
    "scrolled": true
   },
   "outputs": [
    {
     "name": "stdout",
     "output_type": "stream",
     "text": [
      "[2019, 2020]\n",
      "['201901', '201902', '201903', '201904', '201905', '201906', '201907', '201908', '201909', '201910', '201911', '201912', '202001', '202002']\n",
      "<class 'int'>\n"
     ]
    }
   ],
   "source": [
    "yy = 2019 #前時間\n",
    "YY = 2020 #後時間\n",
    "mm = 1\n",
    "MM = 2\n",
    "Y_list = []\n",
    "YM_list = []\n",
    "\n",
    "if type(yy) != int or type(YY) != int:\n",
    "    print('請輸入數字！')\n",
    "\n",
    "elif YY > yy or YY == yy :\n",
    "    for i in range((YY-yy)+1):\n",
    "            years = yy+i\n",
    "            Y_list.append(years)\n",
    "    for i in range(len(Y_list)-1):\n",
    "        while mm < 13 :\n",
    "            temp = Y_list[i]*100 + mm\n",
    "            mm += 1\n",
    "            YM_list.append(str(temp))\n",
    "        mm = 1\n",
    "    while mm <= MM:\n",
    "        temp = Y_list[-1]*100 + mm\n",
    "        mm += 1\n",
    "        YM_list.append(str(temp))\n",
    "                \n",
    "    if YY == yy :\n",
    "        if mm > MM:\n",
    "            print('過去月份大於近年月份！')\n",
    "            \n",
    "elif YY < yy :\n",
    "    print('過去年份大於近年年份！')\n",
    "\n",
    "print(type(Y_list[0]))\n",
    "\n",
    "print(Y_list)   \n",
    "print(YM_list)"
   ]
  },
  {
   "cell_type": "code",
   "execution_count": 81,
   "metadata": {
    "scrolled": false
   },
   "outputs": [
    {
     "name": "stderr",
     "output_type": "stream",
     "text": [
      "C:\\ProgramData\\Anaconda3\\lib\\site-packages\\ipykernel_launcher.py:47: SettingWithCopyWarning: \n",
      "A value is trying to be set on a copy of a slice from a DataFrame\n",
      "\n",
      "See the caveats in the documentation: http://pandas.pydata.org/pandas-docs/stable/indexing.html#indexing-view-versus-copy\n",
      "C:\\ProgramData\\Anaconda3\\lib\\site-packages\\ipykernel_launcher.py:49: SettingWithCopyWarning: \n",
      "A value is trying to be set on a copy of a slice from a DataFrame\n",
      "\n",
      "See the caveats in the documentation: http://pandas.pydata.org/pandas-docs/stable/indexing.html#indexing-view-versus-copy\n"
     ]
    }
   ],
   "source": [
    "def BigCrawler( num, yy, mm, YY, MM):\n",
    "    df = crawler(num,int(YM_list[0][:4]),int(YM_list[0][-2:]))\n",
    "                 \n",
    "    for i in range(1,len(YM_list)):\n",
    "        time.sleep(5)\n",
    "        df = pd.concat([df,crawler(num,int(YM_list[i][:4]),int(YM_list[i][-2:]))])\n",
    "\n",
    "    return df\n",
    "\n",
    "    #df.reset_index(drop=True, inplace = True)\n",
    "#print(type(df.index[0])) #index為0時，2018-01-02 00:00:00\n",
    "#xx = df.index.tolist()\n",
    "\n",
    "data = BigCrawler(1235, 2019, 12, 2020, 1)\n",
    "data_plot = data[['Open','High','Low','Close']]\n",
    "#crawler(num,YM_list[i][:4],YM_list[i][-2:]\n",
    "#num = int(input())\n",
    "#yy = int(input())  \n",
    "#mm = int(input())\n",
    "#YY = int(input())\n",
    "#MM = int(input())\n",
    "\n",
    "\n",
    "#輸出經過多少年月\n"
   ]
  },
  {
   "cell_type": "code",
   "execution_count": null,
   "metadata": {},
   "outputs": [],
   "source": [
    "#datatime index 如何索引\n",
    "\n",
    "\n",
    "'''\n",
    "#下載檔案之迴圈\n",
    "num = int(input('請輸入證券代碼'))\n",
    "yy =int(input('請輸入起始年份'))\n",
    "mm = int(input('請輸入起始月份'))\n",
    "'''"
   ]
  },
  {
   "cell_type": "code",
   "execution_count": null,
   "metadata": {},
   "outputs": [],
   "source": [
    "''''以下完成畫K線'''"
   ]
  },
  {
   "cell_type": "code",
   "execution_count": null,
   "metadata": {
    "scrolled": false
   },
   "outputs": [],
   "source": [
    "def moving_average(data,periods):\n",
    "        return data['Close'].rolling(periods).mean() #10天的移動平均線\n",
    "    \n",
    "moving_average(df,10)"
   ]
  },
  {
   "cell_type": "code",
   "execution_count": null,
   "metadata": {},
   "outputs": [],
   "source": [
    "data = df\n",
    "#計算Step1\n",
    "data_copy = data.copy()\n",
    "data_copy['min'] = data_copy['Low'].rolling(9).min()\n",
    "data_copy['max'] = data_copy['High'].rolling(9).max()\n",
    "data_copy['RSV'] = data_copy['Close'] - data_copy['min']/(data_copy['max'] - data_copy['min'])\n",
    "data_copy = data_copy.dropna() #濾除缺失數據,會整列濾除\n",
    "data_copy\n",
    "#計算K\n",
    "#K的起始值訂為50\n",
    "\n"
   ]
  },
  {
   "cell_type": "code",
   "execution_count": 42,
   "metadata": {},
   "outputs": [
    {
     "data": {
      "text/html": [
       "<div>\n",
       "<style scoped>\n",
       "    .dataframe tbody tr th:only-of-type {\n",
       "        vertical-align: middle;\n",
       "    }\n",
       "\n",
       "    .dataframe tbody tr th {\n",
       "        vertical-align: top;\n",
       "    }\n",
       "\n",
       "    .dataframe thead th {\n",
       "        text-align: right;\n",
       "    }\n",
       "</style>\n",
       "<table border=\"1\" class=\"dataframe\">\n",
       "  <thead>\n",
       "    <tr style=\"text-align: right;\">\n",
       "      <th></th>\n",
       "      <th>成交股數</th>\n",
       "      <th>成交金額</th>\n",
       "      <th>Open</th>\n",
       "      <th>High</th>\n",
       "      <th>Low</th>\n",
       "      <th>Close</th>\n",
       "      <th>漲跌價差</th>\n",
       "      <th>成交筆數</th>\n",
       "    </tr>\n",
       "    <tr>\n",
       "      <th>Date</th>\n",
       "      <th></th>\n",
       "      <th></th>\n",
       "      <th></th>\n",
       "      <th></th>\n",
       "      <th></th>\n",
       "      <th></th>\n",
       "      <th></th>\n",
       "      <th></th>\n",
       "    </tr>\n",
       "  </thead>\n",
       "  <tbody>\n",
       "    <tr>\n",
       "      <th>2017-11-23</th>\n",
       "      <td>31,266</td>\n",
       "      <td>524,253</td>\n",
       "      <td>16.80</td>\n",
       "      <td>16.8</td>\n",
       "      <td>16.7</td>\n",
       "      <td>16.75</td>\n",
       "      <td>-0.05</td>\n",
       "      <td>23</td>\n",
       "    </tr>\n",
       "    <tr>\n",
       "      <th>2017-11-24</th>\n",
       "      <td>16,094</td>\n",
       "      <td>269,378</td>\n",
       "      <td>16.75</td>\n",
       "      <td>16.8</td>\n",
       "      <td>16.7</td>\n",
       "      <td>16.80</td>\n",
       "      <td>0.05</td>\n",
       "      <td>12</td>\n",
       "    </tr>\n",
       "    <tr>\n",
       "      <th>2017-11-27</th>\n",
       "      <td>45,749</td>\n",
       "      <td>770,853</td>\n",
       "      <td>16.80</td>\n",
       "      <td>16.9</td>\n",
       "      <td>16.8</td>\n",
       "      <td>16.90</td>\n",
       "      <td>0.10</td>\n",
       "      <td>25</td>\n",
       "    </tr>\n",
       "    <tr>\n",
       "      <th>2017-11-28</th>\n",
       "      <td>23,001</td>\n",
       "      <td>387,417</td>\n",
       "      <td>16.90</td>\n",
       "      <td>16.9</td>\n",
       "      <td>16.8</td>\n",
       "      <td>16.85</td>\n",
       "      <td>-0.05</td>\n",
       "      <td>14</td>\n",
       "    </tr>\n",
       "    <tr>\n",
       "      <th>2017-11-29</th>\n",
       "      <td>86,251</td>\n",
       "      <td>1,447,339</td>\n",
       "      <td>16.80</td>\n",
       "      <td>16.8</td>\n",
       "      <td>16.7</td>\n",
       "      <td>16.75</td>\n",
       "      <td>-0.10</td>\n",
       "      <td>25</td>\n",
       "    </tr>\n",
       "  </tbody>\n",
       "</table>\n",
       "</div>"
      ],
      "text/plain": [
       "              成交股數       成交金額   Open  High   Low  Close  漲跌價差  成交筆數\n",
       "Date                                                               \n",
       "2017-11-23  31,266    524,253  16.80  16.8  16.7  16.75 -0.05    23\n",
       "2017-11-24  16,094    269,378  16.75  16.8  16.7  16.80  0.05    12\n",
       "2017-11-27  45,749    770,853  16.80  16.9  16.8  16.90  0.10    25\n",
       "2017-11-28  23,001    387,417  16.90  16.9  16.8  16.85 -0.05    14\n",
       "2017-11-29  86,251  1,447,339  16.80  16.8  16.7  16.75 -0.10    25"
      ]
     },
     "execution_count": 42,
     "metadata": {},
     "output_type": "execute_result"
    }
   ],
   "source": [
    "#計算KD值\n",
    "'''\n",
    "Step1: 計算RSV:(今日的收盤價 - 最近9天的最低價)/(最近9天的最高-最近9天的最低價)\n",
    "#RSV說明：與最近9天相比，今天的股價是強還是弱?(看小趨勢)\n",
    "\n",
    "Step2: 計算K值: K = 2/3 * (昨天的K值)+ 1/3 *(今日的RSV)\n",
    "#K值: K 值就是 取 RSV 的加權移動平均(看中趨勢)\n",
    "\n",
    "Step3: 計算D值: D = 2/3 * (昨天的D值)+ 1/3 *(今日的K值)\n",
    "#D值:D 值則是 取 K 值的加權移動平均(看大趨勢)\n",
    "'''\n",
    "\n",
    "def KD(data):\n",
    "    #計算Step1\n",
    "    data_copy = data.copy()\n",
    "    data_copy['min'] = data_copy['Low'].rolling(9).min()\n",
    "    data_copy['max'] = data_copy['High'].rolling(9).max()\n",
    "    data_copy['RSV'] = data_copy['Close'] - data_copy['min']/(data_copy['max'] - data_copy['min'])\n",
    "    data_copy = data_copy.dropna() #濾除缺失數據,會整列濾除\n",
    "\n",
    "    #計算Step2\n",
    "    #K的起始值訂為50\n",
    "    K_list = [50]\n",
    "\n",
    "    for num,rsv in enumerate(list(data_copy['RSV'])):\n",
    "        K_yesterday = K_list[num]\n",
    "        K_today = 2/3 * K_yesterday + 1/3 * rsv\n",
    "        K_list.append(K_today)\n",
    "    data_copy['K'] = K_list[1:]\n",
    "    D_list = [50]\n",
    "\n",
    "    for num,K in enumerate(list(data_copy['K'])):\n",
    "        D_yesterday = D_list[num]\n",
    "        D_today = 2/3 * D_yesterday + 1/3 * K\n",
    "        D_list.append(D_today)\n",
    "    data_copy['D'] = D_list[1:]\n",
    "    return data_copy\n",
    "\n",
    "KD(data)\n",
    "df.tail()"
   ]
  },
  {
   "cell_type": "code",
   "execution_count": 27,
   "metadata": {},
   "outputs": [],
   "source": [
    "from matplotlib import dates as mdates\n",
    "from matplotlib import ticker as mticker\n",
    "from matplotlib.dates import DateFormatter\n",
    "import mplfinance as mpf\n",
    "import datetime as dt\n",
    "import matplotlib.pyplot as plt\n"
   ]
  },
  {
   "cell_type": "code",
   "execution_count": null,
   "metadata": {},
   "outputs": [],
   "source": [
    "Ma_10 = moving_average(data,10)\n",
    "Ma_50 = moving_average(data,50)\n",
    "len(data)"
   ]
  },
  {
   "cell_type": "code",
   "execution_count": null,
   "metadata": {
    "scrolled": false
   },
   "outputs": [],
   "source": [
    "\n",
    "data_plot_co = data_plot.copy()\n",
    "data_plot\n"
   ]
  },
  {
   "cell_type": "code",
   "execution_count": null,
   "metadata": {},
   "outputs": [],
   "source": [
    "def plo_stock_price(data):\n",
    "    Ma_10 = moving_average(data,10)\n",
    "    Ma_50 = moving_average(data,50)\n",
    "    "
   ]
  },
  {
   "cell_type": "code",
   "execution_count": null,
   "metadata": {},
   "outputs": [],
   "source": [
    "#https://openwritings.net/pg/mplfinance/python-draw-candlestickohlc-using-new-mplfinance\n"
   ]
  },
  {
   "cell_type": "code",
   "execution_count": 82,
   "metadata": {
    "scrolled": false
   },
   "outputs": [
    {
     "data": {
      "image/png": "[encoded data removed]",
      "text/plain": [
       "<Figure size 576x414 with 4 Axes>"
      ]
     },
     "metadata": {
      "needs_background": "light"
     },
     "output_type": "display_data"
    }
   ],
   "source": [
    "mpf.plot(data,type='candle',mav=(3,6,9),style = 'charles',title ='Stock price',ylabel='Price ($)',volume = True)"
   ]
  },
  {
   "cell_type": "code",
   "execution_count": null,
   "metadata": {},
   "outputs": [],
   "source": []
  },
  {
   "cell_type": "code",
   "execution_count": 83,
   "metadata": {},
   "outputs": [],
   "source": [
    "from mplfinance.original_flavor import candlestick_ohlc\n",
    "\n"
   ]
  },
  {
   "cell_type": "code",
   "execution_count": 40,
   "metadata": {},
   "outputs": [
    {
     "name": "stdout",
     "output_type": "stream",
     "text": [
      "            Volume        成交金額   Open   High    Low  Close  漲跌價差  成交筆數\n",
      "Date                                                                  \n",
      "2020-01-02   35703     771,219  21.45  21.80  21.40  21.80  0.35    34\n",
      "2020-01-03   82198   1,804,656  21.90  22.00  21.90  22.00  0.20    71\n",
      "2020-01-06   30552     669,944  21.95  22.00  21.85  22.00  0.00    31\n",
      "2020-01-07   27366     600,938  21.95  22.10  21.90  22.10  0.10    28\n",
      "2020-01-08   30500     670,650  22.05  22.05  21.95  22.00 -0.10    23\n",
      "2020-01-09  515260  11,184,420  22.00  22.00  21.80  22.00  0.00    13\n",
      "2020-01-10  552000  11,995,000  21.95  22.20  21.90  22.20  0.20    38\n",
      "2020-01-13  547258  11,908,879  22.50  22.50  22.35  22.40  0.20    29\n",
      "2020-01-14  553200  12,045,208  22.35  22.60  22.35  22.55  0.15    32\n",
      "2020-01-15   63800   1,456,637  22.55  23.10  22.55  22.80  0.25    46\n",
      "2020-01-16   20242     461,175  22.70  22.85  22.70  22.85  0.05    18\n",
      "2020-01-17   20375     466,887  22.85  23.10  22.85  23.10  0.25    21\n",
      "2020-01-20   31756     737,149  23.10  23.40  23.10  23.20  0.10    32\n",
      "2020-01-30   84019   1,886,737  22.55  22.95  21.70  22.95 -0.25    51\n",
      "2020-02-03   46395   1,035,146  22.85  22.85  22.10  22.60 -0.30    37\n",
      "2020-02-04   22100     498,060  22.60  22.60  22.50  22.60  0.00    14\n",
      "2020-02-05   12000     269,950  22.50  22.55  22.45  22.55 -0.05     8\n",
      "2020-02-06   16000     360,250  22.50  22.60  22.40  22.55  0.00    13\n",
      "2020-02-07   13105     292,191  22.45  22.45  22.25  22.25 -0.30    11\n",
      "2020-02-10   20646     455,691  22.30  22.30  21.95  22.15 -0.10    19\n",
      "2020-02-11   58000   1,277,850  22.05  22.20  21.95  22.20  0.05    34\n",
      "2020-02-12   17000     376,100  22.05  22.30  22.00  22.20  0.00    16\n",
      "2020-02-13   17273     383,910  22.20  22.35  22.15  22.35  0.15    16\n",
      "2020-02-14   13250     299,150  22.35  22.75  22.35  22.75  0.40    11\n",
      "2020-02-17    3270      74,065  22.65  22.65  22.65  22.65 -0.10     3\n",
      "2020-02-18    3506      79,636  22.60  22.90  22.60  22.65  0.00     4\n",
      "2020-02-19   35672     817,103  24.40  24.40  22.65  23.00  0.35    31\n",
      "2020-02-20   16328     373,494  23.00  23.00  22.80  22.90 -0.10    14\n",
      "2020-02-21   27694     628,683  22.85  22.85  22.60  22.60 -0.30    27\n",
      "2020-02-24    8200     185,379  22.60  22.65  22.60  22.60  0.00    11\n",
      "2020-02-25   31200     705,650  22.60  22.65  22.50  22.65  0.05    15\n",
      "2020-02-26    6470     148,311  22.70  23.10  22.70  23.10  0.45    10\n"
     ]
    }
   ],
   "source": [
    "print(data)"
   ]
  },
  {
   "cell_type": "code",
   "execution_count": 23,
   "metadata": {
    "scrolled": true
   },
   "outputs": [
    {
     "name": "stdout",
     "output_type": "stream",
     "text": [
      "         Date     成交股數       成交金額   Open   High    Low  Close  漲跌價差  成交筆數\n",
      "0  2019-12-02    8,060    102,169  12.60  12.80  12.60  12.80  0.20    12\n",
      "1  2019-12-03   11,263    143,350  12.80  12.80  12.70  12.70 -0.10     9\n",
      "2  2019-12-04    3,469     44,355  12.80  12.80  12.80  12.80  0.10     6\n",
      "3  2019-12-05    5,111     65,308  12.80  12.80  12.80  12.80  0.00    11\n",
      "4  2019-12-06    5,249     67,166  12.75  12.80  12.75  12.80  0.00    15\n",
      "5  2019-12-09    1,030     13,141  12.75  12.75  12.75  12.75 -0.05     4\n",
      "6  2019-12-10    5,486     70,189  12.80  12.80  12.75  12.75  0.00    14\n",
      "7  2019-12-11    2,159     27,605  12.75  12.80  12.75  12.80  0.05     7\n",
      "8  2019-12-12  201,003  2,598,639  12.85  13.00  12.80  12.90  0.10    49\n",
      "9  2019-12-13  103,430  1,334,713  12.90  12.95  12.90  12.95  0.05    24\n",
      "10 2019-12-16   23,617    305,971  12.90  13.00  12.90  13.00  0.05    17\n",
      "11 2019-12-17   19,002    247,078  12.95  13.10  12.95  13.10  0.10    20\n",
      "12 2019-12-18  239,561  3,260,748  13.10  14.30  13.05  13.65  0.55   160\n",
      "13 2019-12-19  153,078  2,099,195  13.65  13.95  13.55  13.75  0.10    81\n",
      "14 2019-12-20   44,142    608,077  13.85  13.85  13.65  13.80  0.05    25\n",
      "15 2019-12-23   42,088    579,932  13.85  13.90  13.65  13.85  0.05    29\n",
      "16 2019-12-24   32,313    445,482  13.85  13.85  13.75  13.80 -0.05    23\n",
      "17 2019-12-25    9,001    124,214  13.80  13.80  13.80  13.80  0.00     6\n",
      "18 2019-12-26   11,730    160,649  13.70  13.75  13.65  13.65 -0.15    18\n",
      "19 2019-12-27   39,100    532,134  13.80  13.80  13.55  13.55 -0.10    25\n",
      "20 2019-12-30    7,696    103,943  13.55  13.55  13.50  13.50 -0.05    14\n",
      "21 2020-01-02   19,180    264,997  13.70  13.90  13.70  13.75  0.05    24\n",
      "22 2020-01-03   35,050    477,045  13.75  13.75  13.55  13.65 -0.10    26\n",
      "23 2020-01-06   37,004    498,156  13.65  13.65  13.35  13.45 -0.20    27\n",
      "24 2020-01-07   10,412    140,809  13.60  13.60  13.45  13.50  0.05    19\n",
      "25 2020-01-08   29,006    393,180  13.50  13.65  13.45  13.45 -0.05    25\n",
      "26 2020-01-09    7,161     96,743  13.45  13.55  13.45  13.50  0.05    21\n",
      "27 2020-01-10   13,285    179,451  13.50  13.55  13.45  13.55  0.05    18\n",
      "28 2020-01-13   56,002    756,826  13.45  13.55  13.45  13.55  0.00    25\n",
      "29 2020-01-14   18,741    253,208  13.55  13.55  13.50  13.50 -0.05    28\n",
      "30 2020-01-15   17,001    230,513  13.55  13.60  13.45  13.50  0.00    11\n",
      "31 2020-01-16   17,081    230,564  13.50  13.50  13.45  13.50  0.00    16\n",
      "32 2020-01-17   15,888    214,967  13.50  13.55  13.50  13.50  0.00    20\n",
      "33 2020-01-20    6,271     84,896  13.50  13.55  13.50  13.55  0.05    11\n",
      "34 2020-01-30   35,002    462,078  13.50  13.50  13.05  13.05 -0.50    23\n"
     ]
    },
    {
     "data": {
      "image/png": "[encoded data removed]",
      "text/plain": [
       "<Figure size 432x288 with 1 Axes>"
      ]
     },
     "metadata": {},
     "output_type": "display_data"
    }
   ],
   "source": [
    "'''\n",
    "#廢物備用1\n",
    "print(data.index)\n",
    "# RangeIndex(start=0, stop=5, step=1)\n",
    "\n",
    "# convert the column (it's a string) to datetime type\n",
    "datetime_series = pd.to_datetime(data['Date'])\n",
    "\n",
    "# create datetime index passing the datetime series\n",
    "datetime_index = pd.DatetimeIndex(datetime_series.values)\n",
    "\n",
    "data2=df.set_index(datetime_index)\n",
    "\n",
    "# we don't need the column anymore\n",
    "data2.drop('Date',axis=1,inplace=True)\n",
    "\n",
    "print(df2.index)\n",
    "# DatetimeIndex(['2000-01-01', '1999-12-20', '2000-11-01', '1995-02-25',\n",
    "#    '1992-06-30'], dtype='datetime64[ns]', freq=None)\n",
    "print(data)\n",
    "\n",
    "\n",
    "#廢物備用2\n",
    "mpf.plot(data,type ='candle', style = 'charles',title ='Stock price', ylabel = 'Price($)', volume=True)\n",
    "\n",
    "#廢物備用3\n",
    "data = data.set_index(pd.DatetimeIndex(df['Date']))\n",
    "data\n",
    "\n",
    "#廢物備用4\n",
    "#datetime 作為Index\n",
    "data['Date'] =  pd.to_datetime(data['Date'], format='%d%b%Y:%H:%M:%S.%f')\n",
    "data.set_index(data['Date'])\n",
    "print(data)\n",
    "\n",
    "\n",
    "'''\n",
    "'''這是一個，唯一畫的出圖，阿但是我什麼都不懂的程式碼^ ^'''\n",
    "import matplotlib.pyplot as plt\n",
    "from mpl_finance import candlestick_ohlc\n",
    "import pandas as pd\n",
    "import matplotlib.dates as mpl_dates\n",
    "\n",
    "plt.style.use('ggplot')\n",
    "\n",
    "# Extracting Data for plotting\n",
    "\n",
    "ohlc = data.loc[:, ['Date', 'Open', 'High', 'Low', 'Close']]\n",
    "ohlc['Date'] = pd.to_datetime(ohlc['Date'])\n",
    "ohlc['Date'] = ohlc['Date'].apply(mpl_dates.date2num)\n",
    "ohlc = ohlc.astype(float)\n",
    "\n",
    "# Creating Subplots\n",
    "fig, ax = plt.subplots()\n",
    "plt.axis('off')\n",
    "fig.patch.set_facecolor('black')\n",
    "\n",
    "candlestick_ohlc(ax, ohlc.values, width=0.6, colorup='green', colordown='red', alpha=0.8)\n",
    "\n",
    "print(data)\n",
    "plt.show()\n"
   ]
  }
 ],
 "metadata": {
  "kernelspec": {
   "display_name": "Python 3",
   "language": "python",
   "name": "python3"
  },
  "language_info": {
   "codemirror_mode": {
    "name": "ipython",
    "version": 3
   },
   "file_extension": ".py",
   "mimetype": "text/x-python",
   "name": "python",
   "nbconvert_exporter": "python",
   "pygments_lexer": "ipython3",
   "version": "3.7.3"
  }
 },
 "nbformat": 4,
 "nbformat_minor": 2
}
